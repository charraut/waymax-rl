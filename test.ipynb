{
 "cells": [
  {
   "cell_type": "code",
   "execution_count": 1,
   "metadata": {},
   "outputs": [
    {
     "name": "stderr",
     "output_type": "stream",
     "text": [
      "2023-11-14 16:05:30.078392: W external/xla/xla/service/gpu/nvptx_compiler.cc:679] The NVIDIA driver's CUDA version is 12.1 which is older than the ptxas CUDA version (12.3.52). Because the driver is older than the ptxas version, XLA is disabling parallel compilation, which may slow down compilation. You should update your NVIDIA driver or use the NVIDIA-provided CUDA forward compatibility packages.\n"
     ]
    },
    {
     "ename": "ConcretizationTypeError",
     "evalue": "Abstract tracer value encountered where concrete value is expected: traced array with shape int32[].\nThe size argument of jnp.nonzero must be statically specified to use jnp.nonzero within JAX transformations.\nThe error occurred while tracing the function insert_in_replay_state at /tmp/ipykernel_179206/3259525882.py:20 for jit. This concrete value was not available in Python because it depends on the value of the argument mask.\n\nSee https://jax.readthedocs.io/en/latest/errors.html#jax.errors.ConcretizationTypeError",
     "output_type": "error",
     "traceback": [
      "\u001b[0;31m---------------------------------------------------------------------------\u001b[0m",
      "\u001b[0;31mConcretizationTypeError\u001b[0m                   Traceback (most recent call last)",
      "\u001b[1;32m/home/o-vcharrau/Workspace/waymax-rl/test.ipynb Cell 1\u001b[0m line \u001b[0;36m5\n\u001b[1;32m     <a href='vscode-notebook-cell:/home/o-vcharrau/Workspace/waymax-rl/test.ipynb#W0sZmlsZQ%3D%3D?line=50'>51</a>\u001b[0m \u001b[39m# Mask to insert only the first two samples\u001b[39;00m\n\u001b[1;32m     <a href='vscode-notebook-cell:/home/o-vcharrau/Workspace/waymax-rl/test.ipynb#W0sZmlsZQ%3D%3D?line=51'>52</a>\u001b[0m mask \u001b[39m=\u001b[39m jnp\u001b[39m.\u001b[39marray([\u001b[39mTrue\u001b[39;00m, \u001b[39mTrue\u001b[39;00m, \u001b[39mFalse\u001b[39;00m])\n\u001b[0;32m---> <a href='vscode-notebook-cell:/home/o-vcharrau/Workspace/waymax-rl/test.ipynb#W0sZmlsZQ%3D%3D?line=53'>54</a>\u001b[0m buffer_state \u001b[39m=\u001b[39m insert_in_replay_state(buffer_state, samples, mask)\n",
      "    \u001b[0;31m[... skipping hidden 12 frame]\u001b[0m\n",
      "\u001b[1;32m/home/o-vcharrau/Workspace/waymax-rl/test.ipynb Cell 1\u001b[0m line \u001b[0;36m2\n\u001b[1;32m     <a href='vscode-notebook-cell:/home/o-vcharrau/Workspace/waymax-rl/test.ipynb#W0sZmlsZQ%3D%3D?line=19'>20</a>\u001b[0m \u001b[39m@partial\u001b[39m(jax\u001b[39m.\u001b[39mjit)\n\u001b[1;32m     <a href='vscode-notebook-cell:/home/o-vcharrau/Workspace/waymax-rl/test.ipynb#W0sZmlsZQ%3D%3D?line=20'>21</a>\u001b[0m \u001b[39mdef\u001b[39;00m \u001b[39minsert_in_replay_state\u001b[39m(buffer_state: ReplayBufferState, samples: jax\u001b[39m.\u001b[39mArray, mask: jax\u001b[39m.\u001b[39mArray) \u001b[39m-\u001b[39m\u001b[39m>\u001b[39m ReplayBufferState:\n\u001b[1;32m     <a href='vscode-notebook-cell:/home/o-vcharrau/Workspace/waymax-rl/test.ipynb#W0sZmlsZQ%3D%3D?line=21'>22</a>\u001b[0m     mask_size \u001b[39m=\u001b[39m jnp\u001b[39m.\u001b[39msum(mask)\n\u001b[0;32m---> <a href='vscode-notebook-cell:/home/o-vcharrau/Workspace/waymax-rl/test.ipynb#W0sZmlsZQ%3D%3D?line=22'>23</a>\u001b[0m     indices_mask \u001b[39m=\u001b[39m jnp\u001b[39m.\u001b[39;49mnonzero(mask, size\u001b[39m=\u001b[39;49mmask_size)[\u001b[39m0\u001b[39m]\n\u001b[1;32m     <a href='vscode-notebook-cell:/home/o-vcharrau/Workspace/waymax-rl/test.ipynb#W0sZmlsZQ%3D%3D?line=24'>25</a>\u001b[0m     \u001b[39m# Apply the mask to the samples to keep the valid ones\u001b[39;00m\n\u001b[1;32m     <a href='vscode-notebook-cell:/home/o-vcharrau/Workspace/waymax-rl/test.ipynb#W0sZmlsZQ%3D%3D?line=25'>26</a>\u001b[0m     new_samples \u001b[39m=\u001b[39m jnp\u001b[39m.\u001b[39mtake(samples, indices_mask, axis\u001b[39m=\u001b[39m\u001b[39m0\u001b[39m)\n",
      "File \u001b[0;32m~/Workspace/waymax-rl/venv/lib/python3.11/site-packages/jax/_src/numpy/lax_numpy.py:1375\u001b[0m, in \u001b[0;36mnonzero\u001b[0;34m(***failed resolving arguments***)\u001b[0m\n\u001b[1;32m   1373\u001b[0m \u001b[39mif\u001b[39;00m size \u001b[39mis\u001b[39;00m \u001b[39mNone\u001b[39;00m:\n\u001b[1;32m   1374\u001b[0m   size \u001b[39m=\u001b[39m mask\u001b[39m.\u001b[39msum()\n\u001b[0;32m-> 1375\u001b[0m size \u001b[39m=\u001b[39m core\u001b[39m.\u001b[39;49mconcrete_dim_or_error(size,\n\u001b[1;32m   1376\u001b[0m   \u001b[39m\"\u001b[39;49m\u001b[39mThe size argument of jnp.nonzero must be statically specified \u001b[39;49m\u001b[39m\"\u001b[39;49m\n\u001b[1;32m   1377\u001b[0m   \u001b[39m\"\u001b[39;49m\u001b[39mto use jnp.nonzero within JAX transformations.\u001b[39;49m\u001b[39m\"\u001b[39;49m)\n\u001b[1;32m   1378\u001b[0m \u001b[39mif\u001b[39;00m arr\u001b[39m.\u001b[39msize \u001b[39m==\u001b[39m \u001b[39m0\u001b[39m \u001b[39mor\u001b[39;00m size \u001b[39m==\u001b[39m \u001b[39m0\u001b[39m:\n\u001b[1;32m   1379\u001b[0m   \u001b[39mreturn\u001b[39;00m \u001b[39mtuple\u001b[39m(zeros(size, \u001b[39mint\u001b[39m) \u001b[39mfor\u001b[39;00m dim \u001b[39min\u001b[39;00m arr\u001b[39m.\u001b[39mshape)\n",
      "    \u001b[0;31m[... skipping hidden 1 frame]\u001b[0m\n",
      "File \u001b[0;32m~/Workspace/waymax-rl/venv/lib/python3.11/site-packages/jax/_src/core.py:1460\u001b[0m, in \u001b[0;36mconcrete_or_error\u001b[0;34m(force, val, context)\u001b[0m\n\u001b[1;32m   1458\u001b[0m     \u001b[39mreturn\u001b[39;00m force(val\u001b[39m.\u001b[39maval\u001b[39m.\u001b[39mval)\n\u001b[1;32m   1459\u001b[0m   \u001b[39melse\u001b[39;00m:\n\u001b[0;32m-> 1460\u001b[0m     \u001b[39mraise\u001b[39;00m ConcretizationTypeError(val, context)\n\u001b[1;32m   1461\u001b[0m \u001b[39melse\u001b[39;00m:\n\u001b[1;32m   1462\u001b[0m   \u001b[39mreturn\u001b[39;00m force(val)\n",
      "\u001b[0;31mConcretizationTypeError\u001b[0m: Abstract tracer value encountered where concrete value is expected: traced array with shape int32[].\nThe size argument of jnp.nonzero must be statically specified to use jnp.nonzero within JAX transformations.\nThe error occurred while tracing the function insert_in_replay_state at /tmp/ipykernel_179206/3259525882.py:20 for jit. This concrete value was not available in Python because it depends on the value of the argument mask.\n\nSee https://jax.readthedocs.io/en/latest/errors.html#jax.errors.ConcretizationTypeError"
     ]
    }
   ],
   "source": [
    "import jax\n",
    "import jax.numpy as jnp\n",
    "from functools import partial\n",
    "import flax\n",
    "\n",
    "num_envs = 3\n",
    "\n",
    "@flax.struct.dataclass\n",
    "class ReplayBufferState:\n",
    "    \"\"\"Contains data related to a replay buffer.\"\"\"\n",
    "\n",
    "    data: jnp.ndarray\n",
    "    insert_position: int\n",
    "    sample_position: int\n",
    "\n",
    "def init_replay_buffer_state(data_shape):\n",
    "    data = jnp.zeros(data_shape, dtype=jnp.float32)\n",
    "    return ReplayBufferState(data, 0, 0)\n",
    "\n",
    "@partial(jax.jit, static_argnames=\"mask_size\")\n",
    "def insert_in_replay_state(buffer_state: ReplayBufferState, samples: jax.Array, mask: jax.Array, mask_size: int) -> ReplayBufferState:\n",
    "    indices_mask = jnp.nonzero(mask, size=mask_size)[0]\n",
    "\n",
    "    # Apply the mask to the samples to keep the valid ones\n",
    "    new_samples = jnp.take(samples, indices_mask, axis=0)\n",
    "    samples_size = len(new_samples)\n",
    "\n",
    "    # Current buffer state\n",
    "    data = buffer_state.data\n",
    "    insert_idx = buffer_state.insert_position\n",
    "    size_buffer = buffer_state.sample_position\n",
    "\n",
    "    # Insert the new samples in the buffer\n",
    "    data = jax.lax.dynamic_update_slice_in_dim(data, new_samples, insert_idx, axis=0)\n",
    "    insert_idx = (insert_idx + samples_size) % size_buffer\n",
    "    sample_idx = jnp.minimum(buffer_state.sample_position + samples_size, size_buffer)\n",
    "\n",
    "    return buffer_state.replace(\n",
    "        data=data,\n",
    "        insert_position=insert_idx,\n",
    "        sample_position=sample_idx,\n",
    "    )\n",
    "\n",
    "# Create a buffer state\n",
    "buffer_state = init_replay_buffer_state((1000, 10))\n",
    "\n",
    "# Dummy samples\n",
    "samples = jnp.ones((num_envs, 10))\n",
    "\n",
    "# Mask to insert only the first two samples\n",
    "mask = jnp.array([True, True, False])\n",
    "\n",
    "buffer_state = insert_in_replay_state(buffer_state, samples, mask)"
   ]
  }
 ],
 "metadata": {
  "kernelspec": {
   "display_name": "venv",
   "language": "python",
   "name": "python3"
  },
  "language_info": {
   "codemirror_mode": {
    "name": "ipython",
    "version": 3
   },
   "file_extension": ".py",
   "mimetype": "text/x-python",
   "name": "python",
   "nbconvert_exporter": "python",
   "pygments_lexer": "ipython3",
   "version": "3.11.6"
  }
 },
 "nbformat": 4,
 "nbformat_minor": 2
}
